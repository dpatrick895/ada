{
 "cells": [
  {
   "cell_type": "markdown",
   "metadata": {},
   "source": [
    "# Example Reading Notes\n",
    "\n",
    "This is an example of noting your own reading, understanding, and realising process of an academic paper [[Goodfellow et al. 2014](https://arxiv.org/abs/1406.2661)]. \n",
    "\n",
    "__NB1__: Critical commnents, as required by Assignment 1, are NOT included (Section 2 is a placeholder). \n",
    "\n",
    "__NB2__: The contents in the example show an active learning experience, so not all arguments are accurate and consistent. "
   ]
  },
  {
   "cell_type": "markdown",
   "metadata": {},
   "source": [
    "# 1. My First Read\n",
    "\n",
    "You can freely note all your confusions and your effort on understanding:\n",
    "- unfamilier notions, \n",
    "- the confusing way the author described something\n",
    "- un-justified claim -- which you find hard to swallow but experts seem to accept\n",
    "- etc. et.\n",
    "\n",
    "If you have listed here some points-of-confusion, and have shown evidence that you did your share of research, study, contemplation and discussion, then the miss or mis-understanding of the corresponding part in Section 2 -- the main body of critical review, can be forgiven.\n",
    "\n",
    "Below are some examples:"
   ]
  },
  {
   "cell_type": "markdown",
   "metadata": {},
   "source": [
    "## 1.1 Generative Model\n",
    "\n",
    "In the [paper](https://arxiv.org/abs/1406.2661)\n",
    "- What makes a \"model\" of the data? Does it mean a function mapping from observed part $x$ to some unknown target label $y$? (this is a WRONG answer here).\n",
    "- The difference between a discriminative and a generative model:\n",
    "    - Can we distinguish a generative model $G$ and a discriminative model $D$ by their inputs and outputs?\n",
    "    - Is the \"discriminator\" a discriminative model in a standard sense?\n",
    "    \n"
   ]
  },
  {
   "cell_type": "markdown",
   "metadata": {},
   "source": [
    "My understanding is as follows:\n",
    "\n",
    "Generative and discriminative models are defined by \"what they try to describe\": gen: $P(X)$ and $P(X|Y)$ -- building a model of how the world works, and then try to draw conclusion about whatever is concerned according to the world model. \n",
    "\n",
    "On the other hand, a discriminative model describes $P(Y|X)$ -- trying to directly answer the questions.\n",
    "\n",
    "Discriminator in GAN is different from traditional discriminative model: it describes $P(X)$, distinguishing a sample $x$ belonging to $\\mathcal{X}$ or not. While a discriminative model describes $P(Y|X)$.\n",
    "\n"
   ]
  },
  {
   "cell_type": "markdown",
   "metadata": {},
   "source": [
    "## 1.2 Multilayer perceptron\n",
    "- Why people call NN multilayer perceptrons?\n",
    "- What is a single layer perceptrons?\n",
    "- What is a single perceptron?\n",
    "- How to \"train\" a perceptron?"
   ]
  },
  {
   "cell_type": "markdown",
   "metadata": {},
   "source": [
    "## 1.3 Computational challenge in max likelihood\n",
    "- Can you show an example of a so-called maximal likelihood *problem* in generative model?\n",
    "In the following, we will consider the difficulty of this and related problems:\n",
    "- Can you think of examples, in which computing $P(X)$ is NOT difficult?\n",
    "- Discuss \"generative\" models. The name \"generative\" usually mean that the conditional relation of the \"cause\" variable $Y$ and the observed phenomenon $X$ is modelled. But there are at least 2 ways of *describe* $X|Y$\n",
    "    - generating generative model\n",
    "    - discriminating generative model"
   ]
  },
  {
   "cell_type": "markdown",
   "metadata": {},
   "source": [
    "# 2 Read and Write Critical Review\n",
    "\n",
    "Please complete this part following the [specification](ref/spec.pdf). "
   ]
  },
  {
   "cell_type": "markdown",
   "metadata": {},
   "source": [
    "# 3 Try the algorithm\n",
    "\n",
    "## 3.1 Preparation\n",
    "The following few blocks are useful book-keeping templates -- you can organise all options and other experiment configurations here."
   ]
  },
  {
   "cell_type": "code",
   "execution_count": 320,
   "metadata": {},
   "outputs": [],
   "source": [
    "# This is a \n",
    "import argparse\n",
    "import os\n",
    "\n",
    "parser = argparse.ArgumentParser(description='Options')\n",
    "parser.add_argument(\n",
    "    '--random-seed', metavar='RS', type=int,\n",
    "    help='Random seed')\n",
    "parser.add_argument(\n",
    "    '--noise-dim', metavar='dz', type=int,\n",
    "    help='Dimension of noises z')\n",
    "parser.add_argument(\n",
    "    '--data-root', metavar='DDIR', type=str,\n",
    "    help='Training data dir; for torchvision')\n",
    "parser.add_argument(\n",
    "    '--basic-channels', metavar='ngf', type=int,\n",
    "    help='First conv layer channels')\n",
    "parser.add_argument(\n",
    "    '--learning-rate', metavar='lr', type=float,\n",
    "    help='Learning rate')\n",
    "parser.add_argument(\n",
    "    '--batch-size', metavar='n', type=int,\n",
    "    help='#.samples in a minibatch')\n",
    "parser.add_argument(\n",
    "    '--max-iter', metavar='MAXITER', type=int,\n",
    "    help='training batches')\n",
    "parser.add_argument('--report_per_n_steps_loss', type=int)\n",
    "parser.add_argument('--report_per_n_steps_draw', type=int)\n",
    "HOME_DIR = os.path.expanduser('~') # this gives your home directory"
   ]
  },
  {
   "cell_type": "code",
   "execution_count": 321,
   "metadata": {},
   "outputs": [],
   "source": [
    "opt = parser.parse_args([\n",
    "    '--random-seed', '42',\n",
    "    '--noise-dim', '64',\n",
    "    '--data-root', os.path.join(HOME_DIR, 'data', 'common'),\n",
    "    '--basic-channels', '64',\n",
    "    '--learning-rate', '0.001',\n",
    "    '--batch-size', '4',\n",
    "    '--max-iter', '1000000',\n",
    "    '--report_per_n_steps_loss', '50',\n",
    "    '--report_per_n_steps_draw', '100'\n",
    "])"
   ]
  },
  {
   "cell_type": "code",
   "execution_count": null,
   "metadata": {},
   "outputs": [],
   "source": [
    "import torchvision\n",
    "from torchvision import transforms\n",
    "import numpy as np\n",
    "import matplotlib.pyplot as plt\n",
    "%matplotlib inline\n",
    "def show(img):\n",
    "    npimg = img.detach().numpy()\n",
    "    npimg -= npimg.min()\n",
    "    npimg /= npimg.max()\n",
    "    if npimg.shape[0] in [3,4]:\n",
    "        plt.imshow(np.transpose(npimg, (1,2,0)), interpolation='nearest')\n",
    "    else:\n",
    "        plt.imshow(npimg.squeeze(), interpolation='nearest')"
   ]
  },
  {
   "cell_type": "markdown",
   "metadata": {},
   "source": [
    "## 3.2 Get data\n",
    "We will use CIFAR-10. "
   ]
  },
  {
   "cell_type": "code",
   "execution_count": null,
   "metadata": {},
   "outputs": [],
   "source": [
    "transform = transforms.Compose(\n",
    "    [transforms.ToTensor(),\n",
    "     transforms.Normalize((0.5, 0.5, 0.5), (0.5, 0.5, 0.5))])\n",
    "\n",
    "\n",
    "trainset = torchvision.datasets.CIFAR10(\n",
    "    root=opt.data_root, train=True,\n",
    "    download=True, transform=transform)\n",
    "trainloader = torch.utils.data.DataLoader(\n",
    "    trainset, batch_size=opt.batch_size,\n",
    "    shuffle=True, num_workers=2)\n",
    "\n",
    "testset = torchvision.datasets.CIFAR10(\n",
    "    root=opt.data_root, train=False,\n",
    "    download=True, transform=transform)\n",
    "testloader = torch.utils.data.DataLoader(\n",
    "    testset, batch_size=opt.batch_size,\n",
    "    shuffle=False, num_workers=2)\n",
    "\n",
    "classes = ('plane', 'car', 'bird', 'cat',\n",
    "           'deer', 'dog', 'frog', 'horse', 'ship', 'truck')"
   ]
  },
  {
   "cell_type": "code",
   "execution_count": null,
   "metadata": {},
   "outputs": [],
   "source": [
    "for x, y in trainloader:\n",
    "    break\n",
    "print(x.shape)\n",
    "print(y.shape)\n",
    "show(x[0])\n",
    "print(classes[y[0]])"
   ]
  },
  {
   "cell_type": "markdown",
   "metadata": {},
   "source": [
    "### Generator net\n",
    "__Ready!__ Let's import torch and make some noises. As we know know the _format_ of the data, we are ready to build a generator net."
   ]
  },
  {
   "cell_type": "code",
   "execution_count": null,
   "metadata": {},
   "outputs": [],
   "source": [
    "import torch\n",
    "torch.random.manual_seed(opt.random_seed)\n",
    "device = torch.device(\"cuda:0\" if torch.cuda.is_available() else \"cpu\")"
   ]
  },
  {
   "cell_type": "code",
   "execution_count": null,
   "metadata": {},
   "outputs": [],
   "source": [
    "a = torch.randn(1, 1, opt.noise_dim).to(device)"
   ]
  },
  {
   "cell_type": "markdown",
   "metadata": {},
   "source": [
    "__Nice!__ Let's try to make our generator!"
   ]
  },
  {
   "cell_type": "code",
   "execution_count": null,
   "metadata": {},
   "outputs": [],
   "source": [
    "import torch.nn as nn\n",
    "import torch.nn.functional as F"
   ]
  },
  {
   "cell_type": "code",
   "execution_count": null,
   "metadata": {},
   "outputs": [],
   "source": [
    "# do two samples (any thing more than one should be OK)\n",
    "# -- why one sample is NOT so OK here?\n",
    "z = torch.randn(2, opt.noise_dim, 1, 1).to(device)\n",
    "print(z.shape)"
   ]
  },
  {
   "cell_type": "markdown",
   "metadata": {},
   "source": [
    "Let's try map $z$ to a (fake) image. Please check this [nice animation](https://github.com/vdumoulin/conv_arithmetic/blob/master/README.md) for [transposed convolution](https://pytorch.org/docs/stable/nn.html?highlight=convtranspose#torch.nn.ConvTranspose2d)."
   ]
  },
  {
   "cell_type": "code",
   "execution_count": null,
   "metadata": {},
   "outputs": [],
   "source": [
    "tst_convtr = nn.ConvTranspose2d(\n",
    "    in_channels=64, \n",
    "    out_channels=64, \n",
    "    kernel_size=3,\n",
    "    stride=2\n",
    ")"
   ]
  },
  {
   "cell_type": "code",
   "execution_count": null,
   "metadata": {},
   "outputs": [],
   "source": [
    "# check the effect of the temporary deconv\n",
    "tmp = tst_convtr(z)\n",
    "print(tmp.shape)\n",
    "tmp = tst_convtr(tmp)\n",
    "print(tmp.shape)\n",
    "tmp = tst_convtr(tmp)\n",
    "print(tmp.shape)\n",
    "tmp = tst_convtr(tmp)\n",
    "print(tmp.shape)"
   ]
  },
  {
   "cell_type": "markdown",
   "metadata": {},
   "source": [
    "It seems that we can stack the kernels as above to have a more or less image. -- Wait, we are still short of one pixel, right? Let's try another strategy. Check a tutorial on [DC-GAN](https://github.com/ResByte/pytorch-gan/blob/master/networks.py)."
   ]
  },
  {
   "cell_type": "code",
   "execution_count": null,
   "metadata": {},
   "outputs": [],
   "source": [
    "tst_convtr1 = nn.ConvTranspose2d(\n",
    "    in_channels=64, \n",
    "    out_channels=64, \n",
    "    kernel_size=4,\n",
    "    stride=2,\n",
    "    padding=1\n",
    ")\n",
    "# please check the effect of padding and stride. \n",
    "tmp = tst_convtr1(z)\n",
    "print(tmp.shape)\n",
    "tmp = tst_convtr1(tmp)\n",
    "print(tmp.shape)\n",
    "tmp = tst_convtr1(tmp)\n",
    "print(tmp.shape)\n",
    "tmp = tst_convtr1(tmp)\n",
    "print(tmp.shape)"
   ]
  },
  {
   "cell_type": "markdown",
   "metadata": {},
   "source": [
    "Now we make our generator. Note we cannot use the same conv layer many times now!"
   ]
  },
  {
   "cell_type": "code",
   "execution_count": null,
   "metadata": {},
   "outputs": [],
   "source": [
    "# KSIZE = 4\n",
    "class GNet_CIFAR(nn.Module):\n",
    "    def __init__(self, opt):\n",
    "        super(GNet_CIFAR, self).__init__()\n",
    "        self.convtr1 = nn.ConvTranspose2d(\n",
    "            in_channels=opt.noise_dim, \n",
    "            out_channels=opt.basic_channels*4,\n",
    "            kernel_size=4,\n",
    "            stride=1,\n",
    "            padding=0,\n",
    "            bias=False)\n",
    "        self.convtr2 = nn.ConvTranspose2d(\n",
    "            opt.basic_channels*4, opt.basic_channels*2, \n",
    "            kernel_size=4, stride=2, padding=1, bias=False)\n",
    "        self.bn2 = nn.BatchNorm2d(opt.basic_channels*2)\n",
    "        self.convtr3 = nn.ConvTranspose2d(\n",
    "            opt.basic_channels*2, opt.basic_channels, \n",
    "            kernel_size=4, stride=2, padding=1, bias=False)\n",
    "        self.convtr4 = nn.ConvTranspose2d(\n",
    "            opt.basic_channels, 3, \n",
    "            kernel_size=4, stride=2, padding=1, bias=False)\n",
    "        \n",
    "        self.bn1 = nn.BatchNorm2d(opt.basic_channels*4)\n",
    "        self.bn2 = nn.BatchNorm2d(opt.basic_channels*2)\n",
    "        self.bn3 = nn.BatchNorm2d(opt.basic_channels)\n",
    "        \n",
    "        \n",
    "    def forward(self, x):\n",
    "        h = self.convtr1(x)\n",
    "        h = self.bn1(h)\n",
    "        h = F.relu(h)\n",
    "        h = self.convtr2(h)\n",
    "        h = self.bn2(h)\n",
    "        h = F.relu(h)\n",
    "        h = self.convtr3(h)\n",
    "        h = self.bn3(h)\n",
    "        h = F.relu(h)\n",
    "        h = self.convtr4(h)\n",
    "        h = F.tanh(h)\n",
    "        \n",
    "        return h\n",
    "        "
   ]
  },
  {
   "cell_type": "code",
   "execution_count": null,
   "metadata": {},
   "outputs": [],
   "source": [
    "g = GNet_CIFAR(opt)\n",
    "tmp = g(z)\n",
    "print(tmp.shape)"
   ]
  },
  {
   "cell_type": "code",
   "execution_count": null,
   "metadata": {},
   "outputs": [],
   "source": [
    "show(tmp[0])"
   ]
  },
  {
   "cell_type": "markdown",
   "metadata": {},
   "source": [
    "__BINGO!__ Now we can generate seemingly image data from noises!\n",
    "\n",
    "### Discriminator\n",
    "It is relatively easy, just reverse the generator net would do!"
   ]
  },
  {
   "cell_type": "code",
   "execution_count": null,
   "metadata": {},
   "outputs": [],
   "source": [
    "# KSIZE = 4\n",
    "class DNet_CIFAR(nn.Module):\n",
    "    def __init__(self, opt):\n",
    "        super(DNet_CIFAR, self).__init__()\n",
    "        self.conv1 = nn.Conv2d(\n",
    "            in_channels=3, \n",
    "            out_channels=opt.basic_channels,\n",
    "            kernel_size=4)\n",
    "        \n",
    "        self.conv2 = nn.Conv2d(\n",
    "            opt.basic_channels, opt.basic_channels*2, \n",
    "            kernel_size=4)\n",
    "        self.conv3 = nn.Conv2d(\n",
    "            opt.basic_channels*2, opt.basic_channels*4, \n",
    "            kernel_size=4)\n",
    "        self.linear = nn.Linear(1024, 1)\n",
    "        \n",
    "        \n",
    "        self.bn1 = nn.BatchNorm2d(opt.basic_channels*2)\n",
    "        \n",
    "        \n",
    "        \n",
    "    def forward(self, x):\n",
    "        h = self.conv1(x)\n",
    "        h = F.leaky_relu(h, 0.2, inplace=True)\n",
    "        h = F.max_pool2d(h, 2)\n",
    "        h = self.conv2(h)\n",
    "        h = self.bn1(h)\n",
    "        h = F.leaky_relu(h, 0.2, inplace=True)\n",
    "        h = F.max_pool2d(h, 2)\n",
    "        h = self.conv3(h)\n",
    "        h = self.linear(h.view(h.shape[0], -1))\n",
    "        h = F.sigmoid(h)\n",
    "        return h\n",
    "        "
   ]
  },
  {
   "cell_type": "code",
   "execution_count": null,
   "metadata": {},
   "outputs": [],
   "source": [
    "dnet = DNet_CIFAR(opt)\n",
    "tmpd = dnet(tmp)\n",
    "print(tmpd.shape)"
   ]
  },
  {
   "cell_type": "markdown",
   "metadata": {},
   "source": [
    "Almost there. \n",
    "### Training"
   ]
  },
  {
   "cell_type": "code",
   "execution_count": null,
   "metadata": {},
   "outputs": [],
   "source": [
    "from torch.optim import Adam"
   ]
  },
  {
   "cell_type": "code",
   "execution_count": null,
   "metadata": {},
   "outputs": [],
   "source": [
    "dnet = DNet_CIFAR(opt).to(device)\n",
    "gnet = GNet_CIFAR(opt).to(device)\n",
    "optim_discrim = Adam(dnet.parameters(), lr=opt.learning_rate)\n",
    "optim_gen = Adam(gnet.parameters(), lr=opt.learning_rate)"
   ]
  },
  {
   "cell_type": "markdown",
   "metadata": {},
   "source": [
    "Let's mix a set of true and fake samples:\n",
    "\n",
    "$x \\sim p_{data}$"
   ]
  },
  {
   "cell_type": "code",
   "execution_count": null,
   "metadata": {},
   "outputs": [],
   "source": [
    "x_true, _ = next(iter(trainloader)) # we don't care labels for now\n",
    "print(x_true.shape) "
   ]
  },
  {
   "cell_type": "code",
   "execution_count": null,
   "metadata": {},
   "outputs": [],
   "source": [
    "z = torch.randn(opt.batch_size, opt.noise_dim, 1, 1).to(device)\n",
    "x_fake = gnet(z).detach()\n",
    "print(x_fake.shape)"
   ]
  },
  {
   "cell_type": "markdown",
   "metadata": {},
   "source": [
    "#### Sanity check -- level 2\n",
    "Let us see that at least x_true and x_fake \"looks\" like each other."
   ]
  },
  {
   "cell_type": "code",
   "execution_count": null,
   "metadata": {},
   "outputs": [],
   "source": [
    "xi, yi = 10, 20\n",
    "\n",
    "tmp1 = x_true.numpy()[0][1][yi:yi+3, xi:xi+3]\n",
    "tmp2 = x_fake.numpy()[0][1][yi:yi+3, xi:xi+3]\n",
    "print(tmp1)\n",
    "print(tmp2)"
   ]
  },
  {
   "cell_type": "markdown",
   "metadata": {},
   "source": [
    "If you get something like:\n",
    "```\n",
    "tmp1:\n",
    "[[0.4039216  0.24705887 0.12156868]\n",
    " [0.39607847 0.32549024 0.15294123]\n",
    " [0.45882356 0.3803922  0.254902  ]]\n",
    "tmp2:\n",
    "[[ 0.0331481   0.00940669  0.05687319]\n",
    " [-0.05914152 -0.09792151 -0.017635  ]\n",
    " [-0.08244717  0.02879676  0.06257532]]\n",
    "```\n",
    "\n",
    "The scales don't match. And you may want to check data normalization, etc. (However, try other areas first!)\n",
    "\n",
    "Now everything is good."
   ]
  },
  {
   "cell_type": "code",
   "execution_count": null,
   "metadata": {},
   "outputs": [],
   "source": [
    "x_sample = torch.cat((x_true, x_fake), dim=0)\n",
    "print(x_sample.shape)"
   ]
  },
  {
   "cell_type": "code",
   "execution_count": null,
   "metadata": {},
   "outputs": [],
   "source": [
    "y_true = torch.ones(opt.batch_size).to(device)\n",
    "y_fake = torch.zeros(opt.batch_size).to(device)\n",
    "y_sample = torch.cat((y_true, y_fake))"
   ]
  },
  {
   "cell_type": "code",
   "execution_count": null,
   "metadata": {},
   "outputs": [],
   "source": [
    "pred = dnet(x_sample).squeeze()\n",
    "print (pred.shape)"
   ]
  },
  {
   "cell_type": "code",
   "execution_count": null,
   "metadata": {},
   "outputs": [],
   "source": [
    "pred"
   ]
  },
  {
   "cell_type": "markdown",
   "metadata": {},
   "source": [
    "#### Design the loss\n",
    "\n",
    "Check the explanations\n",
    "[BCE for generator](https://stats.stackexchange.com/questions/242907/why-use-binary-cross-entropy-for-generator-in-adversarial-networks)\n",
    "\n",
    "[Understanding loss](https://ai.stackexchange.com/questions/3488/understanding-gan-loss-function)"
   ]
  },
  {
   "cell_type": "code",
   "execution_count": null,
   "metadata": {},
   "outputs": [],
   "source": [
    "criterion = nn.BCELoss()"
   ]
  },
  {
   "cell_type": "code",
   "execution_count": null,
   "metadata": {},
   "outputs": [],
   "source": [
    "optim_discrim.zero_grad()\n",
    "pred = dnet(x_sample).squeeze()\n",
    "loss = criterion(pred, y_sample)\n",
    "print(pred)\n",
    "print(loss)\n",
    "loss.backward()\n",
    "optim_discrim.step()"
   ]
  },
  {
   "cell_type": "markdown",
   "metadata": {},
   "source": [
    "OK, we are ready to make the trainer for discriminator"
   ]
  },
  {
   "cell_type": "code",
   "execution_count": null,
   "metadata": {},
   "outputs": [],
   "source": [
    "def train_discrim():\n",
    "    \"\"\"\n",
    "    Since we will make a GAN class eventually, we will use some\n",
    "    global objects available, including\n",
    "    - trainloader\n",
    "    - opt\n",
    "    - gnet\n",
    "    - dnet\n",
    "    - optim_discrim\n",
    "    - criterion\n",
    "    \"\"\"\n",
    "    \n",
    "    x_true, _ = next(iter(trainloader))\n",
    "    z = torch.randn(opt.batch_size, opt.noise_dim, 1, 1).to(device)\n",
    "    x_fake = gnet(z).detach()\n",
    "    x_sample = torch.cat((x_true, x_fake), dim=0)\n",
    "    \n",
    "    y_true = torch.ones(opt.batch_size).to(device)\n",
    "    y_fake = torch.zeros(opt.batch_size).to(device)\n",
    "    y_sample = torch.cat((y_true, y_fake))\n",
    "    \n",
    "    pred = dnet(x_sample).squeeze()\n",
    "    print(pred)\n",
    "    optim_discrim.zero_grad()\n",
    "    loss = criterion(pred, y_sample)\n",
    "    loss.backward()\n",
    "    optim_discrim.step()\n",
    "    return loss\n",
    "    "
   ]
  },
  {
   "cell_type": "code",
   "execution_count": null,
   "metadata": {},
   "outputs": [],
   "source": [
    "loss_dis = train_discrim()\n",
    "print(loss_dis)"
   ]
  },
  {
   "cell_type": "markdown",
   "metadata": {},
   "source": [
    "Wonderful! Let's deal with the generator."
   ]
  },
  {
   "cell_type": "code",
   "execution_count": null,
   "metadata": {},
   "outputs": [],
   "source": [
    "z = torch.randn(opt.batch_size*2, opt.noise_dim, 1, 1).to(device)\n",
    "x_fake = gnet(z) #! You cannot detach it NOW!\n",
    "gen_plausib = dnet(x_fake)\n",
    "print(gen_plausib)"
   ]
  },
  {
   "cell_type": "markdown",
   "metadata": {},
   "source": [
    "Errrrrr.... something went wrong."
   ]
  },
  {
   "cell_type": "code",
   "execution_count": null,
   "metadata": {},
   "outputs": [],
   "source": [
    "x_true, _ = next(iter(trainloader))\n",
    "z = torch.randn(opt.batch_size*2, opt.noise_dim, 1, 1).to(device)\n",
    "x_fake = gnet(z)\n",
    "x_sample = torch.cat((x_true, x_fake), dim=0)\n",
    "print(dnet(x_sample))\n",
    "print(dnet(x_fake))"
   ]
  },
  {
   "cell_type": "markdown",
   "metadata": {},
   "source": [
    "#### A werid issue\n",
    "Look above, for the same bunch of fake samples, the discriminator gave very different prediction.\n",
    "\n",
    "Presumbly, the batch-normalization have rendered within batch true and fake samples very different. Let's separate true and fake samples in two batches."
   ]
  },
  {
   "cell_type": "code",
   "execution_count": null,
   "metadata": {},
   "outputs": [],
   "source": [
    "y_ones = torch.ones(opt.batch_size).to(device)\n",
    "y_zeros = torch.zeros(opt.batch_size).to(device)\n",
    "def train_discrim():\n",
    "    \"\"\"\n",
    "    Since we will make a GAN class eventually, we will use some\n",
    "    global objects available, including\n",
    "    - trainloader\n",
    "    - opt\n",
    "    - gnet\n",
    "    - dnet\n",
    "    - optim_discrim\n",
    "    - criterion\n",
    "    \"\"\"\n",
    "    optim_discrim.zero_grad()\n",
    "    \n",
    "    x_true, _ = next(iter(trainloader))\n",
    "    pred_1 = dnet(x_true).squeeze()\n",
    "    loss_dis_1 = criterion(pred_1, y_ones)\n",
    "    \n",
    "    \n",
    "    z = torch.randn(opt.batch_size, opt.noise_dim, 1, 1).to(device)\n",
    "    x_fake = gnet(z).detach()\n",
    "    pred_2 = dnet(x_fake).squeeze()\n",
    "    loss_dis_2 = criterion(pred_2, y_zeros)\n",
    "    \n",
    "    loss = loss_dis_1 + loss_dis_2\n",
    "    loss.backward()\n",
    "    optim_discrim.step()\n",
    "    return loss\n",
    "    "
   ]
  },
  {
   "cell_type": "code",
   "execution_count": null,
   "metadata": {},
   "outputs": [],
   "source": [
    "loss_dis = train_discrim()\n",
    "print(loss_dis)"
   ]
  },
  {
   "cell_type": "code",
   "execution_count": null,
   "metadata": {},
   "outputs": [],
   "source": [
    "z = torch.randn(opt.batch_size*2, opt.noise_dim, 1, 1).to(device)\n",
    "x_fake = gnet(z) #! You cannot detach it NOW!\n",
    "gen_plausib = dnet(x_fake)\n",
    "print(gen_plausib)"
   ]
  },
  {
   "cell_type": "markdown",
   "metadata": {},
   "source": [
    "OK, now everything looks fine, our generator worked terrible!"
   ]
  },
  {
   "cell_type": "code",
   "execution_count": null,
   "metadata": {},
   "outputs": [],
   "source": [
    "def train_gen():\n",
    "    \"\"\"\n",
    "    Global variables\n",
    "    - optim_gen\n",
    "    - gnet\n",
    "    - dnet\n",
    "    - opt\n",
    "    \"\"\"\n",
    "    optim_gen.zero_grad()\n",
    "    z = torch.randn(opt.batch_size*2, opt.noise_dim, 1, 1).to(device)\n",
    "    x_fake = gnet(z) #! You cannot detach it NOW!\n",
    "    gen_plausib = dnet(x_fake)\n",
    "    loss_gen = (1.0 - gen_plausib).sum()\n",
    "    loss_gen.backward()\n",
    "    optim_gen.step()\n",
    "    return loss_gen, x_fake\n",
    "    \n",
    "    "
   ]
  },
  {
   "cell_type": "code",
   "execution_count": null,
   "metadata": {},
   "outputs": [],
   "source": [
    "l, x_fake = train_gen()"
   ]
  },
  {
   "cell_type": "code",
   "execution_count": null,
   "metadata": {},
   "outputs": [],
   "source": [
    "iters = 0\n",
    "while iters<opt.max_iter:\n",
    "    loss_dis = train_discrim()\n",
    "    loss_gen, x_fake = train_gen()\n",
    "    \n",
    "    if iters % opt.report_per_n_steps_loss==0:\n",
    "        print(\"{:d} steps: Loss D: {:.3f} G: {:.3f} +:{:.3f}\".format(\n",
    "            iters, loss_dis, loss_gen, loss_dis+loss_gen\n",
    "        ))\n",
    "\n",
    "    if iters % opt.report_per_n_steps_draw==0:\n",
    "        show(x_fake[0])\n",
    "    iters+=1"
   ]
  },
  {
   "cell_type": "code",
   "execution_count": 327,
   "metadata": {},
   "outputs": [
    {
     "data": {
      "image/png": "[encoded data removed]",
      "text/plain": [
       "<matplotlib.figure.Figure at 0x1267c9940>"
      ]
     },
     "metadata": {},
     "output_type": "display_data"
    }
   ],
   "source": [
    "show(x_fake[3])"
   ]
  },
  {
   "cell_type": "code",
   "execution_count": 328,
   "metadata": {},
   "outputs": [],
   "source": [
    "_, x_fake = train_gen()"
   ]
  },
  {
   "cell_type": "code",
   "execution_count": 331,
   "metadata": {},
   "outputs": [
    {
     "data": {
      "image/png": "[encoded data removed]",
      "text/plain": [
       "<matplotlib.figure.Figure at 0x1275d1d30>"
      ]
     },
     "metadata": {},
     "output_type": "display_data"
    }
   ],
   "source": [
    "show(x_fake[2])"
   ]
  }
 ],
 "metadata": {
  "kernelspec": {
   "display_name": "Python 3",
   "language": "python",
   "name": "python3"
  },
  "language_info": {
   "codemirror_mode": {
    "name": "ipython",
    "version": 3
   },
   "file_extension": ".py",
   "mimetype": "text/x-python",
   "name": "python",
   "nbconvert_exporter": "python",
   "pygments_lexer": "ipython3",
   "version": "3.5.4"
  }
 },
 "nbformat": 4,
 "nbformat_minor": 2
}
