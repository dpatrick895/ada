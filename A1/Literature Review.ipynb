{
 "cells": [
  {
   "cell_type": "markdown",
   "metadata": {},
   "source": [
    "# ADA assignment 1 : Literature review"
   ]
  },
  {
   "cell_type": "markdown",
   "metadata": {},
   "source": [
    "# 1. My First Read\n",
    "\n",
    "Here I will outline what I encountered in my first read of *Opinion mining with Deep Recurrent Neural Networks* (Irsoy and Cardie, 2014). I am reading this paper with the following goals in mind.\n",
    "-  Improve the accuracy of opinion mining \n",
    "-  Investigate the usefulness of using a recurrent nerual network to achieve this"
   ]
  },
  {
   "cell_type": "markdown",
   "metadata": {},
   "source": [
    "## 1.1 Recurrent Neural Networks"
   ]
  },
  {
   "cell_type": "markdown",
   "metadata": {},
   "source": [
    "# 2 Read and Write Critical Review"
   ]
  },
  {
   "cell_type": "markdown",
   "metadata": {},
   "source": [
    "## 2.1 Content\n",
    "\n",
    "This paper is about Opinion Mining, in the paper Irsoy and Cardie describe opinion mining as. \"Fine-grained opinion analysis aims to detect subjective expressions in a text (e.g. \"hate\") and to characterize their intensity (e.g. strong) and sentiment (e.g. negative)\" (Irsoy and Cardie, 2014). Opinion mining is related to areas of computer science such as natural language processing, text analysis and computational linguistics. The goal of opinion mining, is to take an input sentence then output information describing the subjective expressions, intensity and sentiment.\n",
    "The authors achieve this by feeding a sentences into machine learning algorithms in an attempt to classify the sentences into either *direct subjective expressions* (DSEs) or *expressive subjective expressions* (ESEs) (Wiebe et al., 2005).\n",
    "\"DSE's consist of private states or speech events expressing private states; and ESE's consist of expressions that indicate sentiment, emotion, etc., without explicitly conveying them\" (Isroy and Cardie, 2014). In the past, opinion mining problems have been attempted to be solved as sequence labeling problems for example in the work of (Choi et al., 2005). To utilize research that has been undertaken in the past Isroy and Cardie used the BIO tagging scheme. The BIO tagging scheme is a simple tagging system where the B indicates the beginning of the of an opinion related expression, I corresponds to all of the tokens inside the opinion related expression, and the O indicates tokens outside any opinion related class. Below is the example provided in the paper.  \n",
    "<!-- This is how to make comments in Markdown -->\n",
    "<img style=\"float:left;\" src=\"table1.PNG\">\n",
    "&nbsp; \n",
    "&nbsp;\n",
    "On inspection of this sentence in the figure above it is clear that there is expression and tone with the \"as usual\" and \"refused to make any statements\"\n",
    "<!-- Do a little more on the explanation on the tagging scheme -->\n",
    "Opinion mining is an extremely interesting area of computer science however due to the complexity of the task, it is an excellent candidate for the utilization of machine learning algorithms.\n",
    "When it comes to selecting a specific machine learning approach for the goal of classifying the subjective expression, intensity and sentiment. It can depend on the way in which the problem is viewed. For example in the paper *Identifying Sources of Opinions with Conditional Random Fields and Extraction Patterns* (Choi et al., 2005) they stated “We view this problem as an information extraction task and adopt a hybrid approach that combines Conditional Random Fields (Lafferty et at., 2001) and a variation of AutoSlog (Riloff, 1996a)”. This method was one of the approaches which was compared against the Recurrent Neural Network in the paper. Below is a short summary of each algorithm referenced in the paper.\n",
    "&nbsp;\n",
    "Conditional Random Field (CRF)\n",
    "The conditional random field was one of the earlier attempts at a machine learning algorithm applied to Opinion Mining, Lafferty describes the CRF as “a framework for building probabilistic models to segment and label sequence data”\n",
    "\n",
    "\n",
    "\n"
   ]
  },
  {
   "cell_type": "markdown",
   "metadata": {},
   "source": [
    "<!-- <img src=\"https://media.giphy.com/media/K25wpPoaYmo9y/giphy.gif\"> -->"
   ]
  },
  {
   "cell_type": "code",
   "execution_count": null,
   "metadata": {},
   "outputs": [],
   "source": []
  }
 ],
 "metadata": {
  "kernelspec": {
   "display_name": "Python 3",
   "language": "python",
   "name": "python3"
  },
  "language_info": {
   "codemirror_mode": {
    "name": "ipython",
    "version": 3
   },
   "file_extension": ".py",
   "mimetype": "text/x-python",
   "name": "python",
   "nbconvert_exporter": "python",
   "pygments_lexer": "ipython3",
   "version": "3.6.5"
  }
 },
 "nbformat": 4,
 "nbformat_minor": 2
}
