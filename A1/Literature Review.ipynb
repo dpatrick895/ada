{
 "cells": [
  {
   "cell_type": "markdown",
   "metadata": {},
   "source": [
    "# ADA assignment 1 : Literature review"
   ]
  },
  {
   "cell_type": "markdown",
   "metadata": {},
   "source": [
    "# 1. My First Read\n",
    "\n",
    "Here I will outline what I encountered in my first read of *Opinion mining with Deep Recurrent Neural Networks* (Irsoy and Cardie, 2014). I am reading this paper with the following goals in mind.\n",
    "-  Improve the accuracy of opinion mining \n",
    "-  Investigate the usefulness of using a recurrent nerual network to achieve this"
   ]
  },
  {
   "cell_type": "markdown",
   "metadata": {},
   "source": [
    "## 1.1 Recurrent Neural Networks"
   ]
  },
  {
   "cell_type": "markdown",
   "metadata": {},
   "source": [
    "# 2 Read and Write Critical Review"
   ]
  },
  {
   "cell_type": "markdown",
   "metadata": {},
   "source": [
    "## 2.1 Content\n",
    "\n",
    "This paper is about Opinion Mining \"Fine-grained opinion analysis aims to detect subjective expressions in a text (e.g. \"hate\") and to characterize their intensity (e.g. strong) and sentiment (e.g. negative)\" (Irsoy and Cardie, 2014). Opinion mining is related to areas of computer science such as natural language processing, text analysis and computational linguistics. The goal of opinion mining, is to take an input sentence then output information describing the subjective expressions, intensity and sentiment.\n",
    "The authors achieve this by feeding a sentences into machine learning algorithms in an attempt to classify the sentences into either *direct subjective expressions* (DSEs) or *expressive subjective expressions* (ESEs) (Wiebe et al., 2005).\n",
    "\"DSE's consist of private states or speech events expressing private states; and ESE's consist of expressions that indicate sentiment, emotion, etc., without explicitly conveying them\" (Isroy and Cardie, 2014). In the past, opinion mining problems have been attempted to be solved as sequence labeling problems for example in the work of (Choi et al., 2005). To utilize research that has been undertaken in the past Isroy and Cardie used the BIO tagging scheme. The BIO tagging scheme is a simple tagging system where the B indicates the beginning of the of an opinion related expression, I corresponds to all of the tokens inside the opinion related expression, and the O indicates tokens outside any opinion related class. Below is the example provided in the paper:  \n",
    "<!-- This is how to make comments in Markdown style=\"float:left;\"-->\n",
    "<img  src=\"table1.PNG\">\n",
    "\n",
    "\n",
    "On inspection of this sentence in the figure above it is clear that there is expression and tone with the \"as usual\" and \"refused to make any statements\"\n",
    "<!-- Do a little more on the explanation on the tagging scheme -->\n",
    "When it comes to selecting a specific machine learning approach for the goal of classifying the subjective expression, intensity and sentiment. It can depend on the way in which the problem is viewed. For example in the paper *Identifying Sources of Opinions with Conditional Random Fields and Extraction Patterns* (Choi et al., 2005) they stated “We view this problem as an information extraction task and adopt a hybrid approach that combines Conditional Random Fields (Lafferty et at., 2001) and a variation of AutoSlog (Riloff, 1996a)”. This method was one of the approaches which was compared against the Recurrent Neural Network in the paper. Below is a short summary of each algorithm referenced in the paper.\n",
    "\n",
    "    \n",
    "Conditional Random Field (CRF)<br>\n",
    "The conditional random field was one of the earlier attempts at a machine learning algorithm applied to Opinion Mining, Lafferty describes the CRF as “a framework for building probabilistic models to segment and label sequence data”\n",
    "<mark>CITATION REQUIRED <mark>\n",
    "\n",
    "    \n",
    "AutoSlog <br>\n",
    "In Choi’s paper they combined the CRF algorithm with AutoSlog an algorithm developed by Riloff, Riloff says in her paper “We have developed a system called AutoSlog-TS that creates dictionaries of extraction patterns using only untagged text”. <br> \n",
    "After combining these two algorithms to make an ensemble classifier  (Choi et al., 2005) went on to say “While CRFs model source identification as a sequence tagging task, AutoSlog learns extraction patterns”. Choi then says that this ensemble classifier is more accurate than the two methods performing by themselves. This ensemble method was the algorithm that was compared against the Recurrent Neural Networks discussed in this paper.\n",
    "\n",
    "SemiCRF <br>\n",
    "SemiCRF is the last algorithm other than the Recurrent Neural Network which was used to compare against the Recurrent Neural Network, in Isroy and Cardie’s paper. “We describe semi-Markov conditional random fields (semi-CRFs), a conditionally trained version of semi-Markov chains.” (Sarawagi and Cohen, 2004). This approach was also used to compare against the Recurrent Neural Network as it had been experimentally shown that semiCRF’s were out performing traditional CRF’s. \n",
    "\n",
    "Recurrent Neural Networks (RNN)<br>\n",
    "The Recurrent Neural Network was the focus of this paper for the Opinion Mining so in this section of the review I speak about what a Recurrent Neural Network is. A Recurrent Neural Network is an extended version of a simpler Artificial Neural Network. <br>\n",
    "In the book Discovering Knowledge in Data a Artificial Neural Network is described as “an attempt at a very basic level to imitate the type of non-linear learning that occurs in the networks of neurons found in nature” (Larose & Larose, 2014). This description of what a neural network is, gives me a basic understanding of why we would want to apply this type of algorithm to a task such as Opinion Mining as it is a problem which is nonlinear in nature.\n",
    "\n",
    "\n"
   ]
  },
  {
   "cell_type": "markdown",
   "metadata": {},
   "source": [
    "<!-- <img src=\"https://media.giphy.com/media/K25wpPoaYmo9y/giphy.gif\"> -->"
   ]
  },
  {
   "cell_type": "markdown",
   "metadata": {},
   "source": [
    "## 2.2 Innovation\n",
    "\n",
    "This paper is novel because it is one of the first attempts at applying Recurrent Neural Networks to the task of Opinion Mining. Using RNNs the authors found that they were able to achieve better results than the current state of the art algorithms at the time. Additionally it should be noted that the CRF and the semiCRF's had access to \"word vectors\". The RNN did not use the word vectors, this means that the CRFs and semiCRFs had access to more information. The word vectors are 300-dimensional data points (Mikilov et al, 2013). These word vectors were trained on the google news dataset which is around 100 billion words.\n",
    "\n",
    "    \n",
    "Considering the fact that the RNNs outperformed the CRFs and semiCRFs without using the word vectors indicates that using RNNs is a very good approach for conducting Opinion Mining tasks. This paper has been well received in the papers that have sited it and it has been the foundation for the paper \"Fine-grained opinion analysis with Recurrent Neural Networks and Word Embeddings\" (Liu et al., 2015). Liu states in their paper that Isroy and Cardie's work was the foundation of their paper. However they used a different RNN architecture. Liu used Jordan and LSTM RNNs whereas Isroy and Cardie used Elman type RNNs.\n",
    "\n",
    "    \n",
    "There is also other work that has cited this paper that is not in the realm of Natural Language Processing. Soggard and Goldberg's 2016 paper is looking at deep multi-task learning and they cite Isroy and Cardie's paper for their contribution to developing a sequence tagging architecture.<br>\n",
    "We can see that this work was novel and innovative it was one of the first implementations of using RNNs for opinion mining which other people have now utilized in their work. I would argue that Isroy and Cardie's paper was novel and innovative that achieved good results and paved the way for future research."
   ]
  },
  {
   "cell_type": "markdown",
   "metadata": {},
   "source": [
    "## 2.3 Technical Quality\n",
    "\n",
    "Technically speaking I believe this paper is of high quality, it was authored by a distinguished scholar Claire Cardie with over 16,000 citations (Google Scholar, 2018). To me that indicates that the author is a respected academic in the community. However we should not judge the paper based on who wrote it, but rather the content of the paper itself. Having read the paper I believe that their research methodology is sound. In the paper Isroy and Cardie gave an explanation of their methodology which I will explain below. Giving a brief explanation of certain terms that may not be obvious to a non expert of the subject area. <br>\n",
    "<mark>Firstly they trained 6 recurrent neural networks, with one being a shallow recurrent neural network and the other five being deep recurrent neural networks they said \"We employ the standard softmax activation for the output layer: $g(x) = e^{x_i}$ <br>\n",
    "For the hidden layers we use the rectifier linear activation: $f(x) = max\\left\\{0, x\\right\\}$ Experimentally, rectifier activation gives better performance, faster convergence, and sparse representations.\" (Isroy and Cardie, 2014) <mark><br>\n",
    "In addition to this they specify the dataset that they are using which is the \"MPQA 1.2 corpus (Wiebe et al., 2005)\". This dataset contains 535 news articles which contains 11,111 sentences. These sentences were manually annotated with the DSEs and ESEs so that they can test if their algorithm produced the correct classification of the sentence. \n",
    "\n",
    "    \n",
    "Isroy and Cardie then discussed how they trained their networks saying that \"We use the standard multiclass cross-entropy as the objective function when training the networks” (Isroy and Cardie, 2014). We note that the ‘objective function’ is the loss function, which as we know is how the neural network adjusts the weights of the perceptrons by looking to minimise the loss function.<br>\n",
    "They then say “We use stochastic gradient descent with with a fixed learning rate (.005) and a fixed momentum rate (.7). We update weights after mini batches of 80 sentences. We run 200 epochs for training”.\n",
    "Basically defining these terms we note that, Stochastic gradient descent is a way to approximate the gradient descent because calculating many derivatives can be computationally complex. So they use stochastic approximation which is essentially a recursive approximation in this case the gradient of the loss function.\n",
    "\n",
    "    \n",
    "When they speak about the ‘epochs’ they are referring to one whole pass through the network. So the data is propagated through the network, then back propagated after this process has happened one epoch has occurred and as they said they run the network for 200 epochs.<br>\n",
    "They then presented their data on their comparison between the semiCRF and the deep recurrent neural network, as well as providing a table with the experimental results. After this there was a discussion about CRF vs RNN and as a result they came to the conclusion that both approaches have strengths and weaknesses and could potentially be combined to produce a better classification algorithm ensemble.  \n",
    "Considering all of these factors I believe that this makes the paper of high technical quality.\n"
   ]
  },
  {
   "cell_type": "markdown",
   "metadata": {},
   "source": [
    "## 2.4 X-Factor\n",
    "\n",
    "I think that this paper could definitely spark a good discussion in class for the following reasons:\n",
    "\n",
    "I think that primarily it is an interesting topic, the fact that we have got to a stage where people can develop and utilize algorithms that can accurately determine subjective opinion in text is quite an achievement. Considering we are in a machine learning / data analytics class. I think this is a topic that once explained the whole class would find the study area of opinion mining very interesting. Furthermore before this assignment I did not realise the scale and scope of this area of computer science so that is another ‘x-factor’ to me. Getting exposure to these things such as:<br>\n",
    "Opinion Mining, Sentiment Analysis, Natural Language Processing and Text Mining was definitely very interesting  experience and was the  x-factor moment for me during my reading of the paper.\n",
    "\n",
    "    \n",
    "Another aspect that I found interesting about the work was that using the deep RNN they were able to produce results that were very good if not the best. Considering that the other state of the art algorithms and approaches utilize word vectors Mikolov et al. (2013). The fact that this new approach is very competitive against the other state of the art algorithms and does not use a word vector as well is huge."
   ]
  },
  {
   "cell_type": "markdown",
   "metadata": {},
   "source": [
    "## 2.5 Presentation \n",
    "\n",
    "I think that the presentation of this paper is of high quality. The authors clearly explained the problem of opinion mining and why it is important to develop even better algorithms to attempt to solve these problems. They explained why they wanted to attempt these problems using a Recurrent Neural Network approach.\n",
    "\n",
    "The way in which the paper was laid out made it quite easy to follow. When it came to the Recurrent neural network they used they explained what dataset they trained it on and how they trained it. The paper was presented in a way such that a person who has knowledge in the field of machine learning could also implement a RNN with the same structure as they provided. A more detailed explanation of how they set up the RNN is provided in the technical quality section of this paper.  \n"
   ]
  },
  {
   "cell_type": "markdown",
   "metadata": {},
   "source": [
    "## 2.6 Application\n",
    "\n",
    "When we consider that the goal of opinion mining / sentiment analysis is to create algorithms or methodologies that can identify, extract and quantify subjective information and study affective states. It is clear that there is application in many areas. In our current Social Media world there is so much posted to the internet. With the use of an opinion mining tool if it were to be created, a company could determine what are high priority posts on their page. For example if a customer is upset or angry as determined by an opinion mining algorithm. Then the system could direct an employee to this post in an attempt to resolve the situation.\n",
    "Conversely the system could also report on positive feedback. \n",
    "\n",
    "\n",
    "There are also many academic thoughts that come to mind when considering opinion mining. If there were algorithms created that could produce high classification accuracy then we could study multiple pieces of text to ask questions like. What makes a piece of writing good? Or when we look at the best speeches of all time what level of opinions were expressed. Another idea could be potentially creating algorithms that can write texts based on certain input parameters.  These are just potential ideas and the ability to implement these ideas could potentially be too difficult however it is interesting to think about them nonetheless.\n"
   ]
  },
  {
   "cell_type": "markdown",
   "metadata": {},
   "source": [
    "## Suggestions for Future Work\n",
    "\n",
    "In the results and discussion section of the paper the authors said “In general, CRFs exhibit high precision but low recall, while semiCRFs exhibit a high recall, low precision performance. Compared to semiCRF the deep RNNs produce an even higher recall but sometimes lower precision for ESE detection. This suggests that the methods are complementary, and can be potentially be even more powerful when combined in an ensemble method” (Isroy and Cardie, 2014). So considering that we see that the contemporary algorithms for opinion mining at the time were the CRF or semiCRF. If they were combined with the deep RNN, they could potentially produce even greater result as an ensemble method. \n",
    "\n",
    "With that in mind that, this would probably be the direction for future study. However first wer would want to conduct a meta-analysis on current opinion mining algorithms then attempt to create an ensemble classifier that could potentially produce greater accuracy.\n",
    "\n",
    "As we saw with Liu et al., 2015 they also used RNNs for fine grained opinion analysis however they used a different RNN architecture. So combining the current state of the art RNN algorithm with the best CRF algorithm utilizing word vectors would be very interesting research.\n",
    "\n"
   ]
  },
  {
   "cell_type": "markdown",
   "metadata": {},
   "source": [
    "# 3 Try the Algorithm"
   ]
  },
  {
   "cell_type": "code",
   "execution_count": 1,
   "metadata": {},
   "outputs": [],
   "source": [
    "import numpy as np"
   ]
  },
  {
   "cell_type": "code",
   "execution_count": null,
   "metadata": {},
   "outputs": [],
   "source": []
  }
 ],
 "metadata": {
  "kernelspec": {
   "display_name": "Python 3",
   "language": "python",
   "name": "python3"
  },
  "language_info": {
   "codemirror_mode": {
    "name": "ipython",
    "version": 3
   },
   "file_extension": ".py",
   "mimetype": "text/x-python",
   "name": "python",
   "nbconvert_exporter": "python",
   "pygments_lexer": "ipython3",
   "version": "3.6.5"
  }
 },
 "nbformat": 4,
 "nbformat_minor": 2
}
